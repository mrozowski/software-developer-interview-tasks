{
 "cells": [
  {
   "cell_type": "code",
   "execution_count": null,
   "metadata": {},
   "outputs": [],
   "source": [
    "\"\"\"\n",
    "    Hi, here's your problem today. This problem was recently asked by Apple:\n",
    "\n",
    "    Given an array with n objects colored red, white or blue, sort them in-place so that objects of the same color are adjacent, with the colors in the order red, white and blue.\n",
    "\n",
    "    Here, we will use the integers 0, 1, and 2 to represent the color red, white, and blue respectively.\n",
    "\n",
    "    Note: You are not suppose to use the library’s sort function for this problem.\n",
    "\n",
    "    ### Can you do this in a single pass? ###\n",
    "    \n",
    "    Example:\n",
    "        Input:  [2,0,2,1,1,0]\n",
    "        Output: [0,0,1,1,2,2]\n",
    "\"\"\"\n"
   ]
  },
  {
   "cell_type": "code",
   "execution_count": 6,
   "metadata": {},
   "outputs": [
    {
     "name": "stdout",
     "output_type": "stream",
     "text": [
      "Before Sort: \n",
      "[0, 1, 2, 2, 1, 1, 2, 2, 0, 0, 0, 0, 2, 1]\n",
      "After Sort: \n",
      "[0, 0, 0, 0, 0, 1, 1, 1, 1, 2, 2, 2, 2, 2]\n"
     ]
    }
   ],
   "source": [
    "class Solution:\n",
    "  def sortColors(self, nums):\n",
    "    start = 0\n",
    "    mid = 0\n",
    "    end = len(nums) - 1\n",
    "    \n",
    "    while mid <= end:\n",
    "        if nums[mid] == 0:\n",
    "            nums[start], nums[mid] = nums[mid], nums[start] # swap\n",
    "            start += 1\n",
    "            mid += 1\n",
    "        elif nums[mid] == 1:\n",
    "            mid += 1\n",
    "        else:\n",
    "            nums[end], nums[mid] = nums[mid], nums[end]\n",
    "            end -= 1\n",
    "    \n",
    "\n",
    "nums = [0, 1, 2, 2, 1, 1, 2, 2, 0, 0, 0, 0, 2, 1]\n",
    "print(\"Before Sort: \")\n",
    "print(nums)\n",
    "# [0, 1, 2, 2, 1, 1, 2, 2, 0, 0, 0, 0, 2, 1]\n",
    "\n",
    "Solution().sortColors(nums)\n",
    "print(\"After Sort: \")\n",
    "print(nums)\n",
    "# [0, 0, 0, 0, 0, 1, 1, 1, 1, 2, 2, 2, 2, 2]"
   ]
  },
  {
   "cell_type": "code",
   "execution_count": null,
   "metadata": {},
   "outputs": [],
   "source": []
  }
 ],
 "metadata": {
  "kernelspec": {
   "display_name": "Python 3",
   "language": "python",
   "name": "python3"
  },
  "language_info": {
   "codemirror_mode": {
    "name": "ipython",
    "version": 3
   },
   "file_extension": ".py",
   "mimetype": "text/x-python",
   "name": "python",
   "nbconvert_exporter": "python",
   "pygments_lexer": "ipython3",
   "version": "3.8.2"
  }
 },
 "nbformat": 4,
 "nbformat_minor": 4
}
