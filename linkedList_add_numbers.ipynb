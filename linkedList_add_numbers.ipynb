{
 "cells": [
  {
   "cell_type": "code",
   "execution_count": 6,
   "metadata": {},
   "outputs": [
    {
     "name": "stdout",
     "output_type": "stream",
     "text": [
      "7\n",
      "10\n",
      "7\n"
     ]
    }
   ],
   "source": [
    "# Definition for singly-linked list.\n",
    "\"\"\"\n",
    "Hi, here's your problem today. This problem was recently asked by Microsoft:\n",
    "\n",
    "You are given two linked-lists representing two non-negative integers. The digits are stored in reverse order\n",
    "and each of their nodes contain a single digit. Add the two numbers and return it as a linked list.\n",
    "\n",
    "Example:\n",
    "Input: (2 -> 4 -> 3) + (5 -> 6 -> 4)\n",
    "Output: 7 -> 0 -> 8\n",
    "Explanation: 342 + 465 = 807.\n",
    "\n",
    "Here is the function signature as a starting point (in Python):\n",
    "\"\"\"\n",
    "    \n",
    "class ListNode(object):\n",
    "  def __init__(self, x):\n",
    "    self.val = x\n",
    "    self.next = None\n",
    "\n",
    "class Solution:\n",
    "  def addTwoNumbers(self, l1, l2, c = 0):\n",
    "    result = None\n",
    "    p = 0\n",
    "    while l1 is not None:\n",
    "        temp = l1.val + l2.val + p\n",
    "        if temp < 10:\n",
    "            result = ListNode(temp)\n",
    "        else:\n",
    "            result = ListNode(temp%10)\n",
    "            p = temp/10\n",
    "        l1 = l1.next\n",
    "        l2 = l2.next       \n",
    "    return resutl\n",
    "\n",
    "\n",
    "l1 = ListNode(2)\n",
    "l1.next = ListNode(4)\n",
    "l1.next.next = ListNode(3)\n",
    "\n",
    "l2 = ListNode(5)\n",
    "l2.next = ListNode(6)\n",
    "l2.next.next = ListNode(4)\n",
    "\n",
    "result = Solution().addTwoNumbers(l1, l2)\n",
    "\n",
    "while result:\n",
    "  print(result.val)\n",
    "  result = result.next\n"
   ]
  },
  {
   "cell_type": "code",
   "execution_count": null,
   "metadata": {},
   "outputs": [],
   "source": [
    "\n",
    "\n"
   ]
  },
  {
   "cell_type": "code",
   "execution_count": null,
   "metadata": {},
   "outputs": [],
   "source": []
  },
  {
   "cell_type": "code",
   "execution_count": null,
   "metadata": {},
   "outputs": [],
   "source": []
  },
  {
   "cell_type": "code",
   "execution_count": null,
   "metadata": {},
   "outputs": [],
   "source": []
  }
 ],
 "metadata": {
  "kernelspec": {
   "display_name": "Python 3",
   "language": "python",
   "name": "python3"
  },
  "language_info": {
   "codemirror_mode": {
    "name": "ipython",
    "version": 3
   },
   "file_extension": ".py",
   "mimetype": "text/x-python",
   "name": "python",
   "nbconvert_exporter": "python",
   "pygments_lexer": "ipython3",
   "version": "3.8.2"
  }
 },
 "nbformat": 4,
 "nbformat_minor": 4
}
