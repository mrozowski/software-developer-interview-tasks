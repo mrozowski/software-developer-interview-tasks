{
 "cells": [
  {
   "cell_type": "code",
   "execution_count": 6,
   "metadata": {},
   "outputs": [
    {
     "name": "stdout",
     "output_type": "stream",
     "text": [
      "10\n",
      "6\n",
      "11\n"
     ]
    }
   ],
   "source": [
    "\"\"\"\n",
    "Hi, here's your problem today. This problem was recently asked by Microsoft:\n",
    "\n",
    "Given a string, find the length of the longest substring without repeating characters.\n",
    "\n",
    "Can you find a solution in linear time?\n",
    "\"\"\"\n",
    "\n",
    "class Solution:\n",
    "  def lengthOfLongestSubstring(self, s):\n",
    "    if len(s) == 0:\n",
    "        return 0\n",
    "    sub = \"\"\n",
    "    max_ = 0\n",
    "    temp = 0\n",
    "    for a in s:\n",
    "        if sub.find(a) == -1:\n",
    "            sub += a\n",
    "            temp += 1\n",
    "        else:\n",
    "            if temp > max_:\n",
    "                max_ = temp\n",
    "            temp = 1\n",
    "            sub = \"\" + a\n",
    "    return max_\n",
    "            \n",
    "            \n",
    "        \n",
    "\n",
    "print(Solution().lengthOfLongestSubstring('abrkaabcdefghijjxxx'))\n",
    "print(Solution().lengthOfLongestSubstring('szymonmrozowski'))\n",
    "print(Solution().lengthOfLongestSubstring('kkkalbinosmrukvyqp'))\n",
    "# 10"
   ]
  },
  {
   "cell_type": "code",
   "execution_count": null,
   "metadata": {},
   "outputs": [],
   "source": []
  }
 ],
 "metadata": {
  "kernelspec": {
   "display_name": "Python 3",
   "language": "python",
   "name": "python3"
  },
  "language_info": {
   "codemirror_mode": {
    "name": "ipython",
    "version": 3
   },
   "file_extension": ".py",
   "mimetype": "text/x-python",
   "name": "python",
   "nbconvert_exporter": "python",
   "pygments_lexer": "ipython3",
   "version": "3.8.2"
  }
 },
 "nbformat": 4,
 "nbformat_minor": 4
}
