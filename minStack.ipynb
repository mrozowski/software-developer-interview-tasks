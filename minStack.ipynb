{
 "cells": [
  {
   "cell_type": "markdown",
   "metadata": {},
   "source": [
    "\n",
    "Hi, here's your problem today. This problem was recently asked by Uber:\n",
    "\n",
    "Design a simple stack that supports push, pop, top, and retrieving the minimum element in constant time.\n",
    "\n",
    "push(x) -- Push element x onto stack. <br>\n",
    "pop() -- Removes the element on top of the stack.<br>\n",
    "top() -- Get the top element.<br>\n",
    "getMin() -- Retrieve the minimum element in the stack.<br>\n",
    "\n",
    "Note: be sure that pop() and top() handle being called on an empty stack.\n",
    "\n",
    "\n"
   ]
  },
  {
   "cell_type": "code",
   "execution_count": 4,
   "metadata": {},
   "outputs": [],
   "source": [
    "class Node:  \n",
    "    def __init__(self, value): \n",
    "        self.value = value \n",
    "        self.next = None "
   ]
  },
  {
   "cell_type": "code",
   "execution_count": 24,
   "metadata": {},
   "outputs": [],
   "source": [
    "class minStack(object):\n",
    "  def __init__(self):\n",
    "    self.top_ = None\n",
    "    self.minimum = []\n",
    "\n",
    "  def push(self, x):\n",
    "    if self.top_ is None: \n",
    "        self.top_ = Node(x) \n",
    "        self.minimum.append(x) \n",
    "    else: \n",
    "        new_node = Node(x) \n",
    "        new_node.next = self.top_\n",
    "        self.top_ = new_node\n",
    "        if x < self.minimum[-1]:\n",
    "            self.minimum.append(x)\n",
    "\n",
    "  def pop(self):\n",
    "    if self.top_ is not None:  \n",
    "        if self.top_.value == self.minimum[-1]: \n",
    "            self.minimum.pop()\n",
    "            self.top_ = self.top_.next\n",
    "        else:\n",
    "            self.top_ = self.top_.next\n",
    "\n",
    "  def top(self):\n",
    "    if self.top_ is not None:\n",
    "        return self.top_.value\n",
    "\n",
    "  def getMin(self):\n",
    "    if self.top_ is not None:\n",
    "        return self.minimum[-1]\n"
   ]
  },
  {
   "cell_type": "code",
   "execution_count": 25,
   "metadata": {},
   "outputs": [
    {
     "name": "stdout",
     "output_type": "stream",
     "text": [
      "-3\n",
      "0\n",
      "-2\n"
     ]
    }
   ],
   "source": [
    "x = minStack()\n",
    "x.push(-2)\n",
    "x.push(0)\n",
    "x.push(-3)\n",
    "print(x.getMin())\n",
    "# -3\n",
    "x.pop()\n",
    "print(x.top())\n",
    "# 0\n",
    "print(x.getMin())\n",
    "# -2"
   ]
  },
  {
   "cell_type": "markdown",
   "metadata": {},
   "source": [
    "In the task description there wasn't any information about maximum space algorithm can use. That's why I used list for keeping minimum element. I'm aware it's not efficient because it can even double the space that program needs to keep values."
   ]
  },
  {
   "cell_type": "code",
   "execution_count": null,
   "metadata": {},
   "outputs": [],
   "source": []
  }
 ],
 "metadata": {
  "kernelspec": {
   "display_name": "Python 3",
   "language": "python",
   "name": "python3"
  },
  "language_info": {
   "codemirror_mode": {
    "name": "ipython",
    "version": 3
   },
   "file_extension": ".py",
   "mimetype": "text/x-python",
   "name": "python",
   "nbconvert_exporter": "python",
   "pygments_lexer": "ipython3",
   "version": "3.8.2"
  }
 },
 "nbformat": 4,
 "nbformat_minor": 4
}
